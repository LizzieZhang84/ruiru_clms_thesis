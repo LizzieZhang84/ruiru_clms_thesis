{
 "cells": [
  {
   "cell_type": "code",
   "execution_count": 1,
   "metadata": {},
   "outputs": [
    {
     "name": "stdout",
     "output_type": "stream",
     "text": [
      "<class 'pandas.core.frame.DataFrame'>\n",
      "RangeIndex: 56 entries, 0 to 55\n",
      "Data columns (total 9 columns):\n",
      " #   Column                   Non-Null Count  Dtype  \n",
      "---  ------                   --------------  -----  \n",
      " 0   data_index               56 non-null     object \n",
      " 1   annotation1_label_total  56 non-null     int64  \n",
      " 2   label_num_diff           56 non-null     int64  \n",
      " 3   precision                56 non-null     float64\n",
      " 4   recall                   56 non-null     float64\n",
      " 5   f1                       56 non-null     float64\n",
      " 6   diagnosis_val_precision  56 non-null     float64\n",
      " 7   diagnosis_val_recall     56 non-null     float64\n",
      " 8   diagnosis_val_f1         56 non-null     float64\n",
      "dtypes: float64(6), int64(2), object(1)\n",
      "memory usage: 4.1+ KB\n",
      "None\n",
      "  data_index  annotation1_label_total  label_num_diff  precision    recall  \\\n",
      "0   ENC00852                       14               1     0.8000  0.857143   \n",
      "1   ENC00853                       11               3     0.7500  0.750000   \n",
      "2   ENC00854                       14               5     0.5625  0.625000   \n",
      "3   ENC00855                        9               1     1.0000  0.958333   \n",
      "4   ENC00856                        7               0     0.9000  1.000000   \n",
      "\n",
      "         f1  diagnosis_val_precision  diagnosis_val_recall  diagnosis_val_f1  \n",
      "0  0.821429                      0.5                   1.0          0.666667  \n",
      "1  0.750000                      0.0                   0.0          0.000000  \n",
      "2  0.583333                      0.2                   1.0          0.333333  \n",
      "3  0.976190                      1.0                   1.0          1.000000  \n",
      "4  0.933333                      0.5                   1.0          0.666667  \n"
     ]
    }
   ],
   "source": [
    "import pandas as pd\n",
    "\n",
    "# Load the results\n",
    "df = pd.read_excel('valid_iaa.xlsx')\n",
    "\n",
    "# Display basic info and the first few rows\n",
    "print(df.info())\n",
    "print(df.head())\n"
   ]
  },
  {
   "cell_type": "code",
   "execution_count": 2,
   "metadata": {},
   "outputs": [
    {
     "name": "stdout",
     "output_type": "stream",
     "text": [
      "       annotation1_label_total  label_num_diff  precision     recall  \\\n",
      "count                56.000000       56.000000  56.000000  56.000000   \n",
      "mean                 15.750000        2.803571   0.801300   0.815518   \n",
      "std                   7.266986        2.283694   0.189608   0.164261   \n",
      "min                   5.000000        0.000000   0.428571   0.357143   \n",
      "25%                  10.000000        1.000000   0.644097   0.666667   \n",
      "50%                  14.000000        2.000000   0.800000   0.833333   \n",
      "75%                  20.000000        4.000000   1.000000   0.985577   \n",
      "max                  36.000000       10.000000   1.000000   1.000000   \n",
      "\n",
      "              f1  diagnosis_val_precision  diagnosis_val_recall  \\\n",
      "count  56.000000                56.000000             56.000000   \n",
      "mean    0.797660                 0.574664              0.884255   \n",
      "std     0.175084                 0.342541              0.292321   \n",
      "min     0.380952                 0.000000              0.000000   \n",
      "25%     0.666667                 0.321429              1.000000   \n",
      "50%     0.828571                 0.527778              1.000000   \n",
      "75%     0.940000                 0.953125              1.000000   \n",
      "max     1.000000                 1.000000              1.000000   \n",
      "\n",
      "       diagnosis_val_f1  \n",
      "count         56.000000  \n",
      "mean           0.655899  \n",
      "std            0.313448  \n",
      "min            0.000000  \n",
      "25%            0.486111  \n",
      "50%            0.690476  \n",
      "75%            0.920833  \n",
      "max            1.000000  \n",
      "data_index\n",
      "ENC00852    1\n",
      "ENC00853    1\n",
      "ENC00882    1\n",
      "ENC00883    1\n",
      "ENC00884    1\n",
      "ENC00885    1\n",
      "ENC00886    1\n",
      "ENC00887    1\n",
      "ENC00888    1\n",
      "ENC00889    1\n",
      "ENC00890    1\n",
      "ENC00891    1\n",
      "ENC00892    1\n",
      "ENC00893    1\n",
      "ENC00894    1\n",
      "ENC00895    1\n",
      "ENC00896    1\n",
      "ENC00897    1\n",
      "ENC00898    1\n",
      "ENC00899    1\n",
      "ENC00900    1\n",
      "ENC00901    1\n",
      "ENC00902    1\n",
      "ENC00903    1\n",
      "ENC00904    1\n",
      "ENC00905    1\n",
      "ENC00906    1\n",
      "ENC00881    1\n",
      "ENC00880    1\n",
      "ENC00879    1\n",
      "ENC00865    1\n",
      "ENC00854    1\n",
      "ENC00855    1\n",
      "ENC00856    1\n",
      "ENC00857    1\n",
      "ENC00858    1\n",
      "ENC00859    1\n",
      "ENC00860    1\n",
      "ENC00861    1\n",
      "ENC00862    1\n",
      "ENC00863    1\n",
      "ENC00864    1\n",
      "ENC00866    1\n",
      "ENC00878    1\n",
      "ENC00867    1\n",
      "ENC00868    1\n",
      "ENC00869    1\n",
      "ENC00870    1\n",
      "ENC00871    1\n",
      "ENC00872    1\n",
      "ENC00873    1\n",
      "ENC00874    1\n",
      "ENC00875    1\n",
      "ENC00876    1\n",
      "ENC00877    1\n",
      "ENC00907    1\n",
      "Name: count, dtype: int64\n"
     ]
    }
   ],
   "source": [
    "# Descriptive statistics\n",
    "print(df.describe())\n",
    "\n",
    "# Count unique values\n",
    "print(df['data_index'].value_counts())\n"
   ]
  },
  {
   "cell_type": "code",
   "execution_count": 3,
   "metadata": {},
   "outputs": [
    {
     "name": "stdout",
     "output_type": "stream",
     "text": [
      "Average Precision: 80.13%\n",
      "Average Recall: 81.55%\n",
      "Average F1 Score: 79.77%\n"
     ]
    }
   ],
   "source": [
    "# Average precision, recall, and F1 scores\n",
    "average_precision = df['precision'].mean()\n",
    "average_recall = df['recall'].mean()\n",
    "average_f1 = df['f1'].mean()\n",
    "\n",
    "print(f'Average Precision: {average_precision:.2%}')\n",
    "print(f'Average Recall: {average_recall:.2%}')\n",
    "print(f'Average F1 Score: {average_f1:.2%}')\n"
   ]
  },
  {
   "cell_type": "code",
   "execution_count": 4,
   "metadata": {},
   "outputs": [
    {
     "name": "stdout",
     "output_type": "stream",
     "text": [
      "Average Diagnosis Val Precision: 57.47%\n",
      "Average Diagnosis Val Recall: 88.43%\n",
      "Average Diagnosis Val F1 Score: 65.59%\n"
     ]
    }
   ],
   "source": [
    "# Average diagnosis val precision, recall, and F1 scores\n",
    "average_diagnosis_val_precision = df['diagnosis_val_precision'].mean()\n",
    "average_diagnosis_val_recall = df['diagnosis_val_recall'].mean()\n",
    "average_diagnosis_val_f1 = df['diagnosis_val_f1'].mean()\n",
    "\n",
    "print(f'Average Diagnosis Val Precision: {average_diagnosis_val_precision:.2%}')\n",
    "print(f'Average Diagnosis Val Recall: {average_diagnosis_val_recall:.2%}')\n",
    "print(f'Average Diagnosis Val F1 Score: {average_diagnosis_val_f1:.2%}')\n"
   ]
  },
  {
   "cell_type": "code",
   "execution_count": 5,
   "metadata": {},
   "outputs": [
    {
     "name": "stdout",
     "output_type": "stream",
     "text": [
      "Average Label Number Difference: 2.8035714285714284\n"
     ]
    }
   ],
   "source": [
    "# Average label number difference\n",
    "average_label_num_diff = df['label_num_diff'].mean()\n",
    "print(f'Average Label Number Difference: {average_label_num_diff}')\n"
   ]
  },
  {
   "cell_type": "code",
   "execution_count": null,
   "metadata": {},
   "outputs": [],
   "source": []
  }
 ],
 "metadata": {
  "kernelspec": {
   "display_name": "pytorch",
   "language": "python",
   "name": "python3"
  },
  "language_info": {
   "codemirror_mode": {
    "name": "ipython",
    "version": 3
   },
   "file_extension": ".py",
   "mimetype": "text/x-python",
   "name": "python",
   "nbconvert_exporter": "python",
   "pygments_lexer": "ipython3",
   "version": "3.10.13"
  }
 },
 "nbformat": 4,
 "nbformat_minor": 2
}
